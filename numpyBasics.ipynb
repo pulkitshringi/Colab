{
  "nbformat": 4,
  "nbformat_minor": 0,
  "metadata": {
    "colab": {
      "provenance": [],
      "authorship_tag": "ABX9TyMCyNg2pIniDrvEYJmKJn1Q",
      "include_colab_link": true
    },
    "kernelspec": {
      "name": "python3",
      "display_name": "Python 3"
    },
    "language_info": {
      "name": "python"
    }
  },
  "cells": [
    {
      "cell_type": "markdown",
      "metadata": {
        "id": "view-in-github",
        "colab_type": "text"
      },
      "source": [
        "<a href=\"https://colab.research.google.com/github/pulkitshringi/Colab/blob/main/numpyBasics.ipynb\" target=\"_parent\"><img src=\"https://colab.research.google.com/assets/colab-badge.svg\" alt=\"Open In Colab\"/></a>"
      ]
    },
    {
      "cell_type": "code",
      "execution_count": null,
      "metadata": {
        "colab": {
          "base_uri": "https://localhost:8080/"
        },
        "id": "2Z4D7hy3o7NT",
        "outputId": "a03756a9-28dd-4500-bc04-5f70a806278e"
      },
      "outputs": [
        {
          "output_type": "stream",
          "name": "stdout",
          "text": [
            "(3, 4)\n"
          ]
        }
      ],
      "source": [
        "import numpy as np\n",
        "arr2D = np.array([[1,2,3,4],[2,4,1,4],[3,4,1,6]])\n",
        "print(arr2D.shape)"
      ]
    },
    {
      "cell_type": "code",
      "source": [
        "import numpy as np\n",
        "arr2D = np.array([[1,2,3,4],[2,4,1,4],[3,4,1,6]])\n",
        "print(arr2D.ndim)"
      ],
      "metadata": {
        "colab": {
          "base_uri": "https://localhost:8080/"
        },
        "id": "OTKNLxEZpEvR",
        "outputId": "4790ebbf-184d-40e6-f1c4-40df3be947fb"
      },
      "execution_count": null,
      "outputs": [
        {
          "output_type": "stream",
          "name": "stdout",
          "text": [
            "2\n"
          ]
        }
      ]
    },
    {
      "cell_type": "code",
      "source": [
        "import numpy as np\n",
        "arr2D = np.array([[1,2,3,4],[2,4,1,4],[3,4,1,6]])\n",
        "print(arr2D.size)"
      ],
      "metadata": {
        "colab": {
          "base_uri": "https://localhost:8080/"
        },
        "id": "u1mQ6BFXr_wm",
        "outputId": "dae7367d-1649-4f45-883e-49097d4c258f"
      },
      "execution_count": null,
      "outputs": [
        {
          "output_type": "stream",
          "name": "stdout",
          "text": [
            "12\n"
          ]
        }
      ]
    },
    {
      "cell_type": "code",
      "source": [
        "import numpy as np\n",
        "arr2D = np.array([[1,2,3,4],[2,4,1,4],[3,4,1,6]])\n",
        "print(arr2D.dtype)"
      ],
      "metadata": {
        "colab": {
          "base_uri": "https://localhost:8080/"
        },
        "id": "bc1agf6PsBoh",
        "outputId": "c81ee500-c127-49a7-9757-044225e88a5d"
      },
      "execution_count": null,
      "outputs": [
        {
          "output_type": "stream",
          "name": "stdout",
          "text": [
            "int64\n"
          ]
        }
      ]
    },
    {
      "cell_type": "code",
      "source": [
        "import numpy as np\n",
        "arr2D = np.array([[1,2,3,4],[2,\"str1\",\"str2\",4],[3,4,1,6]])\n",
        "print(arr2D.dtype)"
      ],
      "metadata": {
        "colab": {
          "base_uri": "https://localhost:8080/"
        },
        "id": "K00dWivLsEt2",
        "outputId": "17e7cfc8-ebf2-490e-8361-2a94859f0f56"
      },
      "execution_count": null,
      "outputs": [
        {
          "output_type": "stream",
          "name": "stdout",
          "text": [
            "<U21\n"
          ]
        }
      ]
    },
    {
      "cell_type": "code",
      "source": [
        "import numpy as np\n",
        "arr2D = np.array([[1,2,3,4],[2,\"str1\",\"str2\",4],[3,4,1,6]])\n",
        "print(arr2D[0][0].dtype)"
      ],
      "metadata": {
        "colab": {
          "base_uri": "https://localhost:8080/"
        },
        "id": "TDqJEnh1sYts",
        "outputId": "2480e511-81ea-4ac2-8990-c642222e4074"
      },
      "execution_count": null,
      "outputs": [
        {
          "output_type": "stream",
          "name": "stdout",
          "text": [
            "<U1\n"
          ]
        }
      ]
    },
    {
      "cell_type": "code",
      "source": [],
      "metadata": {
        "id": "wRlF-w-Bs88P"
      },
      "execution_count": null,
      "outputs": []
    }
  ]
}